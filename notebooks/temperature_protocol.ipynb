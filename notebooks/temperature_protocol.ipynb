{
 "cells": [
  {
   "cell_type": "markdown",
   "id": "taken-worker",
   "metadata": {},
   "source": [
    "test for rest"
   ]
  },
  {
   "cell_type": "code",
   "execution_count": 1,
   "id": "incorporated-poster",
   "metadata": {},
   "outputs": [],
   "source": [
    "import os\n",
    "os.getcwd()\n",
    "import sys\n",
    "sys.path.append('/mnt/c/Users/domin/github/kinope')\n"
   ]
  },
  {
   "cell_type": "code",
   "execution_count": 2,
   "id": "dying-signature",
   "metadata": {},
   "outputs": [],
   "source": [
    "import kinope"
   ]
  },
  {
   "cell_type": "code",
   "execution_count": 3,
   "id": "stuffed-warrant",
   "metadata": {},
   "outputs": [
    {
     "data": {
      "text/plain": [
       "<module 'kinope' from '/mnt/c/Users/domin/github/kinope/kinope/__init__.py'>"
      ]
     },
     "execution_count": 3,
     "metadata": {},
     "output_type": "execute_result"
    }
   ],
   "source": [
    "import importlib\n",
    "importlib.reload(kinope)"
   ]
  },
  {
   "cell_type": "code",
   "execution_count": 30,
   "id": "gothic-membership",
   "metadata": {},
   "outputs": [],
   "source": [
    "from openmmtools.testsystems import AlanineDipeptideExplicit"
   ]
  },
  {
   "cell_type": "code",
   "execution_count": 31,
   "id": "loose-copying",
   "metadata": {},
   "outputs": [],
   "source": [
    "ala = AlanineDipeptideVacuum()"
   ]
  },
  {
   "cell_type": "code",
   "execution_count": 33,
   "id": "integral-tournament",
   "metadata": {},
   "outputs": [],
   "source": [
    "ala.system.getForces()\n",
    "ala.system.removeForce(4)"
   ]
  },
  {
   "cell_type": "code",
   "execution_count": 34,
   "id": "competitive-mirror",
   "metadata": {},
   "outputs": [
    {
     "data": {
      "text/plain": [
       "[<simtk.openmm.openmm.HarmonicBondForce; proxy of <Swig Object of type 'OpenMM::HarmonicBondForce *' at 0x7f6cfa492a20> >,\n",
       " <simtk.openmm.openmm.HarmonicAngleForce; proxy of <Swig Object of type 'OpenMM::HarmonicAngleForce *' at 0x7f6cfa492900> >,\n",
       " <simtk.openmm.openmm.PeriodicTorsionForce; proxy of <Swig Object of type 'OpenMM::PeriodicTorsionForce *' at 0x7f6cfa492c60> >,\n",
       " <simtk.openmm.openmm.NonbondedForce; proxy of <Swig Object of type 'OpenMM::NonbondedForce *' at 0x7f6cfa492ab0> >]"
      ]
     },
     "execution_count": 34,
     "metadata": {},
     "output_type": "execute_result"
    }
   ],
   "source": [
    "ala.system.getForces()"
   ]
  },
  {
   "cell_type": "code",
   "execution_count": 35,
   "id": "printable-daisy",
   "metadata": {},
   "outputs": [],
   "source": [
    "from kinope.tempering import RESTFactory"
   ]
  },
  {
   "cell_type": "code",
   "execution_count": 36,
   "id": "eleven-rachel",
   "metadata": {},
   "outputs": [
    {
     "name": "stderr",
     "output_type": "stream",
     "text": [
      "INFO:temper:No MonteCarloBarostat added.\n",
      "INFO:temper:getDefaultPeriodicBoxVectors added to hybrid: [Quantity(value=Vec3(x=2.0, y=0.0, z=0.0), unit=nanometer), Quantity(value=Vec3(x=0.0, y=2.0, z=0.0), unit=nanometer), Quantity(value=Vec3(x=0.0, y=0.0, z=2.0), unit=nanometer)]\n",
      "INFO:temper:No unknown forces.\n"
     ]
    }
   ],
   "source": [
    "factory = RESTFactory(ala.system, solute_region=[0,1,2,3,4])"
   ]
  },
  {
   "cell_type": "code",
   "execution_count": null,
   "id": "listed-sewing",
   "metadata": {},
   "outputs": [],
   "source": []
  },
  {
   "cell_type": "code",
   "execution_count": 37,
   "id": "american-inspector",
   "metadata": {},
   "outputs": [],
   "source": [
    "out_sys = factory.REST_system"
   ]
  },
  {
   "cell_type": "code",
   "execution_count": 38,
   "id": "adult-representation",
   "metadata": {},
   "outputs": [
    {
     "data": {
      "text/plain": [
       "[<simtk.openmm.openmm.CustomBondForce; proxy of <Swig Object of type 'OpenMM::CustomBondForce *' at 0x7f6cfa4920c0> >,\n",
       " <simtk.openmm.openmm.CustomAngleForce; proxy of <Swig Object of type 'OpenMM::CustomAngleForce *' at 0x7f6cfa492330> >,\n",
       " <simtk.openmm.openmm.CustomTorsionForce; proxy of <Swig Object of type 'OpenMM::CustomTorsionForce *' at 0x7f6cfa4921b0> >,\n",
       " <simtk.openmm.openmm.NonbondedForce; proxy of <Swig Object of type 'OpenMM::NonbondedForce *' at 0x7f6cfa492810> >]"
      ]
     },
     "execution_count": 38,
     "metadata": {},
     "output_type": "execute_result"
    }
   ],
   "source": [
    "out_sys.getForces()"
   ]
  },
  {
   "cell_type": "code",
   "execution_count": 12,
   "id": "urban-barcelona",
   "metadata": {},
   "outputs": [],
   "source": [
    "from openmmtools.states import ThermodynamicState, SamplerState\n",
    "from simtk import unit\n",
    "og_thermostate = ThermodynamicState(ala.system, temperature=300*unit.kelvin)\n",
    "new_thermostate = ThermodynamicState(out_sys, temperature=300*unit.kelvin)\n",
    "samplerstate = SamplerState(ala.positions)"
   ]
  },
  {
   "cell_type": "code",
   "execution_count": 13,
   "id": "automatic-frontier",
   "metadata": {},
   "outputs": [],
   "source": [
    "from openmmtools.integrators import DummyIntegrator\n",
    "ble1_int, bleh2_int = DummyIntegrator(), DummyIntegrator()"
   ]
  },
  {
   "cell_type": "code",
   "execution_count": 14,
   "id": "arranged-furniture",
   "metadata": {},
   "outputs": [],
   "source": [
    "og_context = og_thermostate.create_context(ble1_int)"
   ]
  },
  {
   "cell_type": "code",
   "execution_count": 15,
   "id": "difficult-coordination",
   "metadata": {},
   "outputs": [],
   "source": [
    "new_context = new_thermostate.create_context(bleh2_int)"
   ]
  },
  {
   "cell_type": "code",
   "execution_count": 16,
   "id": "exclusive-thanksgiving",
   "metadata": {},
   "outputs": [],
   "source": [
    "samplerstate.apply_to_context(og_context)\n",
    "samplerstate.apply_to_context(new_context)"
   ]
  },
  {
   "cell_type": "code",
   "execution_count": 17,
   "id": "familiar-category",
   "metadata": {},
   "outputs": [],
   "source": [
    "og_state = og_context.getState(getEnergy=True)\n",
    "new_state = new_context.getState(getEnergy=True)"
   ]
  },
  {
   "cell_type": "code",
   "execution_count": 18,
   "id": "artificial-sentence",
   "metadata": {},
   "outputs": [
    {
     "data": {
      "text/plain": [
       "Quantity(value=-88.08855399792417, unit=kilojoule/mole)"
      ]
     },
     "execution_count": 18,
     "metadata": {},
     "output_type": "execute_result"
    }
   ],
   "source": [
    "og_state.getPotentialEnergy()"
   ]
  },
  {
   "cell_type": "code",
   "execution_count": 19,
   "id": "veterinary-dividend",
   "metadata": {},
   "outputs": [
    {
     "data": {
      "text/plain": [
       "Quantity(value=-88.08855399792404, unit=kilojoule/mole)"
      ]
     },
     "execution_count": 19,
     "metadata": {},
     "output_type": "execute_result"
    }
   ],
   "source": [
    "new_state.getPotentialEnergy()"
   ]
  },
  {
   "cell_type": "code",
   "execution_count": null,
   "id": "settled-spring",
   "metadata": {},
   "outputs": [],
   "source": []
  },
  {
   "cell_type": "code",
   "execution_count": null,
   "id": "sustainable-denial",
   "metadata": {},
   "outputs": [],
   "source": []
  },
  {
   "cell_type": "code",
   "execution_count": null,
   "id": "saving-native",
   "metadata": {},
   "outputs": [],
   "source": []
  },
  {
   "cell_type": "code",
   "execution_count": null,
   "id": "raised-living",
   "metadata": {},
   "outputs": [],
   "source": []
  },
  {
   "cell_type": "markdown",
   "id": "worse-central",
   "metadata": {},
   "source": [
    "great, now i should be able to get the protocol..."
   ]
  },
  {
   "cell_type": "code",
   "execution_count": 20,
   "id": "foster-march",
   "metadata": {},
   "outputs": [],
   "source": [
    "protocol = factory.get_protocol(300, 1200)"
   ]
  },
  {
   "cell_type": "code",
   "execution_count": 21,
   "id": "welsh-funds",
   "metadata": {},
   "outputs": [
    {
     "name": "stdout",
     "output_type": "stream",
     "text": [
      "solute_scale 300 / select(step(lambda - 0.5), 300 + (1200 - 300)*(exp(2*(1.0 - lambda)) - 1) / (exp(1) - 1), 300 + (1200 - 300)*(exp(2*(lambda)) - 1) / (exp(1) - 1))\n",
      "\n",
      "inter_scale sqrt(300 / select(step(lambda - 0.5), 300 + (1200 - 300)*(exp(2*(1.0 - lambda)) - 1) / (exp(1) - 1), 300 + (1200 - 300)*(exp(2*(lambda)) - 1) / (exp(1) - 1)))\n",
      "\n",
      "steric_scale (300 / select(step(lambda - 0.5), 300 + (1200 - 300)*(exp(2*(1.0 - lambda)) - 1) / (exp(1) - 1), 300 + (1200 - 300)*(exp(2*(lambda)) - 1) / (exp(1) - 1))) - 1\n",
      "\n",
      "electrostatic_scale sqrt(300 / select(step(lambda - 0.5), 300 + (1200 - 300)*(exp(2*(1.0 - lambda)) - 1) / (exp(1) - 1), 300 + (1200 - 300)*(exp(2*(lambda)) - 1) / (exp(1) - 1))) - 1\n",
      "\n"
     ]
    }
   ],
   "source": [
    "for key, val in protocol.items():\n",
    "    print(key, val)\n",
    "    print()"
   ]
  },
  {
   "cell_type": "markdown",
   "id": "saved-present",
   "metadata": {},
   "source": [
    "get the periodicneqintegrator."
   ]
  },
  {
   "cell_type": "code",
   "execution_count": 22,
   "id": "paperback-cuisine",
   "metadata": {},
   "outputs": [],
   "source": [
    "from openmmtools.integrators import PeriodicNonequilibriumIntegrator"
   ]
  },
  {
   "cell_type": "code",
   "execution_count": 23,
   "id": "technical-petersburg",
   "metadata": {},
   "outputs": [],
   "source": [
    "nsteps_eq = 1 # number of steps to dwell in equilibrium at lambda = 0 or 1\n",
    "nsteps_neq = 10 # number of steps in the switching trajectory where lambda is switched from 0 to 1"
   ]
  },
  {
   "cell_type": "code",
   "execution_count": 24,
   "id": "empty-clone",
   "metadata": {},
   "outputs": [],
   "source": [
    "neq_integrator = PeriodicNonequilibriumIntegrator(\n",
    "    temperature=300*unit.kelvin, collision_rate=1.0/unit.picoseconds, timestep=4.0*unit.femtoseconds,\n",
    "    alchemical_functions=protocol, splitting=\"V R H O R V\",\n",
    "    nsteps_eq=nsteps_eq, nsteps_neq=nsteps_neq)"
   ]
  },
  {
   "cell_type": "code",
   "execution_count": 25,
   "id": "changing-invitation",
   "metadata": {},
   "outputs": [],
   "source": [
    "from simtk import openmm as openmm\n",
    "context = openmm.Context(out_sys, neq_integrator)"
   ]
  },
  {
   "cell_type": "code",
   "execution_count": 26,
   "id": "annual-section",
   "metadata": {},
   "outputs": [],
   "source": [
    "context.setPositions(samplerstate.positions)"
   ]
  },
  {
   "cell_type": "code",
   "execution_count": 27,
   "id": "simple-psychiatry",
   "metadata": {},
   "outputs": [],
   "source": [
    "nsteps_per_period = 2*nsteps_eq + 2*nsteps_neq\n",
    "#neq_integrator.step(nsteps_per_period)"
   ]
  },
  {
   "cell_type": "code",
   "execution_count": 28,
   "id": "occasional-warrior",
   "metadata": {},
   "outputs": [
    {
     "name": "stdout",
     "output_type": "stream",
     "text": [
      "electrostatic_scale 0.0\n",
      "inter_scale 1.0\n",
      "solute_scale 1.0\n",
      "steric_scale 0.0\n"
     ]
    }
   ],
   "source": [
    "state = context.getState(getParameters=True)\n",
    "p = state.getParameters()\n",
    "for x in p:\n",
    "    print(x, p[x])"
   ]
  },
  {
   "cell_type": "code",
   "execution_count": 29,
   "id": "narrative-vocabulary",
   "metadata": {},
   "outputs": [
    {
     "name": "stdout",
     "output_type": "stream",
     "text": [
      "electrostatic_scale 0.0\n",
      "inter_scale 1.0\n",
      "solute_scale 1.0\n",
      "steric_scale 0.0\n",
      "\n",
      "electrostatic_scale -0.15075764490412935\n",
      "inter_scale 0.8492423550958706\n",
      "solute_scale 0.7212125776887809\n",
      "steric_scale -0.2787874223112191\n",
      "\n",
      "electrostatic_scale -0.2665063856803106\n",
      "inter_scale 0.7334936143196894\n",
      "solute_scale 0.5380128822477612\n",
      "steric_scale -0.4619871177522388\n",
      "\n",
      "electrostatic_scale -0.35920629089601197\n",
      "inter_scale 0.640793709103988\n",
      "solute_scale 0.41061657762724646\n",
      "steric_scale -0.5893834223727535\n",
      "\n",
      "electrostatic_scale -0.43564118431100607\n",
      "inter_scale 0.5643588156889939\n",
      "solute_scale 0.31850087284588385\n",
      "steric_scale -0.6814991271541162\n",
      "\n",
      "electrostatic_scale -0.5\n",
      "inter_scale 0.5\n",
      "solute_scale 0.25\n",
      "steric_scale -0.75\n",
      "\n",
      "electrostatic_scale -0.43564118431100607\n",
      "inter_scale 0.5643588156889939\n",
      "solute_scale 0.31850087284588385\n",
      "steric_scale -0.6814991271541162\n",
      "\n",
      "electrostatic_scale -0.35920629089601197\n",
      "inter_scale 0.640793709103988\n",
      "solute_scale 0.41061657762724646\n",
      "steric_scale -0.5893834223727535\n",
      "\n",
      "electrostatic_scale -0.2665063856803106\n",
      "inter_scale 0.7334936143196894\n",
      "solute_scale 0.5380128822477612\n",
      "steric_scale -0.4619871177522388\n",
      "\n",
      "electrostatic_scale -0.15075764490412946\n",
      "inter_scale 0.8492423550958705\n",
      "solute_scale 0.7212125776887807\n",
      "steric_scale -0.27878742231121934\n",
      "\n",
      "electrostatic_scale -2.220446049250313e-16\n",
      "inter_scale 0.9999999999999998\n",
      "solute_scale 0.9999999999999997\n",
      "steric_scale -3.3306690738754696e-16\n",
      "\n",
      "electrostatic_scale -2.220446049250313e-16\n",
      "inter_scale 0.9999999999999998\n",
      "solute_scale 0.9999999999999997\n",
      "steric_scale -3.3306690738754696e-16\n",
      "\n",
      "electrostatic_scale -0.15075764490412946\n",
      "inter_scale 0.8492423550958705\n",
      "solute_scale 0.7212125776887807\n",
      "steric_scale -0.27878742231121934\n",
      "\n",
      "electrostatic_scale -0.2665063856803106\n",
      "inter_scale 0.7334936143196894\n",
      "solute_scale 0.5380128822477612\n",
      "steric_scale -0.4619871177522388\n",
      "\n",
      "electrostatic_scale -0.35920629089601197\n",
      "inter_scale 0.640793709103988\n",
      "solute_scale 0.41061657762724646\n",
      "steric_scale -0.5893834223727535\n",
      "\n",
      "electrostatic_scale -0.43564118431100607\n",
      "inter_scale 0.5643588156889939\n",
      "solute_scale 0.31850087284588385\n",
      "steric_scale -0.6814991271541162\n",
      "\n",
      "electrostatic_scale -0.5\n",
      "inter_scale 0.5\n",
      "solute_scale 0.25\n",
      "steric_scale -0.75\n",
      "\n",
      "electrostatic_scale -0.43564118431100607\n",
      "inter_scale 0.5643588156889939\n",
      "solute_scale 0.31850087284588385\n",
      "steric_scale -0.6814991271541162\n",
      "\n",
      "electrostatic_scale -0.35920629089601197\n",
      "inter_scale 0.640793709103988\n",
      "solute_scale 0.41061657762724646\n",
      "steric_scale -0.5893834223727535\n",
      "\n",
      "electrostatic_scale -0.2665063856803106\n",
      "inter_scale 0.7334936143196894\n",
      "solute_scale 0.5380128822477612\n",
      "steric_scale -0.4619871177522388\n",
      "\n",
      "electrostatic_scale -0.15075764490412935\n",
      "inter_scale 0.8492423550958706\n",
      "solute_scale 0.7212125776887809\n",
      "steric_scale -0.2787874223112191\n",
      "\n",
      "electrostatic_scale 0.0\n",
      "inter_scale 1.0\n",
      "solute_scale 1.0\n",
      "steric_scale 0.0\n",
      "\n"
     ]
    }
   ],
   "source": [
    "for i in range(nsteps_per_period):\n",
    "    neq_integrator.step(1)\n",
    "    state = context.getState(getParameters=True)\n",
    "    p = state.getParameters()\n",
    "    for x in p:\n",
    "        print(x, p[x])\n",
    "    print()"
   ]
  },
  {
   "cell_type": "code",
   "execution_count": null,
   "id": "grand-former",
   "metadata": {},
   "outputs": [],
   "source": []
  },
  {
   "cell_type": "code",
   "execution_count": null,
   "id": "modern-watch",
   "metadata": {},
   "outputs": [],
   "source": []
  },
  {
   "cell_type": "code",
   "execution_count": null,
   "id": "industrial-connection",
   "metadata": {},
   "outputs": [],
   "source": []
  },
  {
   "cell_type": "code",
   "execution_count": 38,
   "id": "hourly-glass",
   "metadata": {},
   "outputs": [],
   "source": [
    "import numpy as np\n",
    "lambdas = np.linspace(0,1,10)\n",
    "\n",
    "T_min, T_max=300, 1200\n",
    "yielder = lambda x: np.where(x < 0.5, T_min + (T_max-T_min)*(np.exp(2*x) - 1) / (np.exp(1) - 1), T_min + (T_max-T_min)*(np.exp(2*(1-x)) - 1) / (np.exp(1) - 1))"
   ]
  },
  {
   "cell_type": "code",
   "execution_count": 39,
   "id": "rubber-ballot",
   "metadata": {},
   "outputs": [
    {
     "name": "stderr",
     "output_type": "stream",
     "text": [
      "DEBUG:matplotlib.pyplot:Loaded backend module://ipykernel.pylab.backend_inline version unknown.\n"
     ]
    }
   ],
   "source": [
    "%matplotlib inline\n",
    "\n",
    "import matplotlib\n",
    "import numpy as np\n",
    "import matplotlib.pyplot as plt"
   ]
  },
  {
   "cell_type": "code",
   "execution_count": 40,
   "id": "assured-middle",
   "metadata": {},
   "outputs": [
    {
     "data": {
      "text/plain": [
       "[<matplotlib.lines.Line2D at 0x7fdbb261ccf8>]"
      ]
     },
     "execution_count": 40,
     "metadata": {},
     "output_type": "execute_result"
    },
    {
     "data": {
      "image/png": "[encoded data removed]",
      "text/plain": [
       "<Figure size 432x288 with 1 Axes>"
      ]
     },
     "metadata": {
      "needs_background": "light"
     },
     "output_type": "display_data"
    }
   ],
   "source": [
    "plt.plot(lambdas, yielder(lambdas))"
   ]
  },
  {
   "cell_type": "code",
   "execution_count": 41,
   "id": "corporate-bearing",
   "metadata": {},
   "outputs": [
    {
     "data": {
      "text/plain": [
       "array([ 300.        ,  430.34182076,  593.1190562 ,  796.40322258,\n",
       "       1050.27442385, 1050.27442385,  796.40322258,  593.1190562 ,\n",
       "        430.34182076,  300.        ])"
      ]
     },
     "execution_count": 41,
     "metadata": {},
     "output_type": "execute_result"
    }
   ],
   "source": [
    "yielder(lambdas)"
   ]
  },
  {
   "cell_type": "code",
   "execution_count": null,
   "id": "noble-assessment",
   "metadata": {},
   "outputs": [],
   "source": []
  }
 ],
 "metadata": {
  "kernelspec": {
   "display_name": "Python 3",
   "language": "python",
   "name": "python3"
  },
  "language_info": {
   "codemirror_mode": {
    "name": "ipython",
    "version": 3
   },
   "file_extension": ".py",
   "mimetype": "text/x-python",
   "name": "python",
   "nbconvert_exporter": "python",
   "pygments_lexer": "ipython3",
   "version": "3.6.12"
  }
 },
 "nbformat": 4,
 "nbformat_minor": 5
}
